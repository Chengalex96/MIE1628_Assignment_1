{
  "cells": [
    {
      "cell_type": "code",
      "execution_count": 98,
      "metadata": {
        "id": "1Am4B6it3FbL",
        "colab": {
          "base_uri": "https://localhost:8080/",
          "height": 35
        },
        "outputId": "dc018cb1-2f14-48fe-fb41-147ba17cef7c"
      },
      "outputs": [
        {
          "output_type": "execute_result",
          "data": {
            "text/plain": [
              "'mapper.py'"
            ],
            "application/vnd.google.colaboratory.intrinsic+json": {
              "type": "string"
            }
          },
          "metadata": {},
          "execution_count": 98
        }
      ],
      "source": [
        "#!/usr/bin/env python\n",
        "\"\"\"mapper.py\"\"\""
      ]
    },
    {
      "cell_type": "code",
      "execution_count": 99,
      "metadata": {
        "id": "VobTkCTz3FbN"
      },
      "outputs": [],
      "source": [
        "import sys\n",
        "from math import sqrt"
      ]
    },
    {
      "cell_type": "markdown",
      "metadata": {
        "id": "mX1uY1gG3FbO"
      },
      "source": [
        "get initial centroids from a txt file and add them in an array"
      ]
    },
    {
      "cell_type": "code",
      "execution_count": 100,
      "metadata": {
        "id": "4m5WbbLF3FbP"
      },
      "outputs": [],
      "source": [
        "def getCentroids(filepath):\n",
        "    global x_list\n",
        "    global y_list\n",
        "    global x_initial\n",
        "    global y_initial\n",
        "\n",
        "    '''\n",
        "    Mapper function:\n",
        "        load in coordinates, Centroid, \n",
        "        Calculate the distances from each sample to each centroid point\n",
        "        output relabeled cluster ID as key, Coordinates as value.\n",
        "    \n",
        "    '''\n",
        "    with open('initial3points.txt') as a:\n",
        "      initial = a.readlines()\n",
        "\n",
        "    initial = list(map(lambda s: s.strip(), initial))\n",
        "    x_initial = []\n",
        "    y_initial = []\n",
        "    for line in initial:\n",
        "        Type = line.split(',')\n",
        "        x = Type[0]\n",
        "        y = Type[1]\n",
        "        x_initial.append(x)\n",
        "        y_initial.append(y)\n",
        "    \n",
        "    with open('data_points-1.txt') as f:\n",
        "      lines = f.readlines()\n",
        "      \n",
        "    x_list = []\n",
        "    y_list = []\n",
        "\n",
        "    for line in lines:\n",
        "        Type = line.split(',')\n",
        "        x = Type[0]\n",
        "        y = Type[1]\n",
        "        x_list.append(x)\n",
        "        y_list.append(y)\n",
        "      \n",
        "    x_initial = [float(x) for x in x_initial]\n",
        "    y_initial = [float(x) for x in y_initial]\n",
        "    x_list = [float(x) for x in x_list]\n",
        "    y_list = [float(x) for x in y_list]\n",
        "\n",
        "    centroids = []\n",
        "    return centroids"
      ]
    },
    {
      "cell_type": "code",
      "source": [
        "k = 3"
      ],
      "metadata": {
        "id": "JHptysWiPEOU"
      },
      "execution_count": 101,
      "outputs": []
    },
    {
      "cell_type": "markdown",
      "metadata": {
        "id": "p_Z07P-U3FbP"
      },
      "source": [
        "create clusters based on initial centroids"
      ]
    },
    {
      "cell_type": "code",
      "execution_count": 102,
      "metadata": {
        "id": "2Vbzd-av3FbQ"
      },
      "outputs": [],
      "source": [
        "def createClusters(centroids):\n",
        "  distance = []\n",
        "  cluster = []\n",
        "  for i in range (k):\n",
        "    for j in range (len(x_list)):\n",
        "      distancestep = sqrt((x_list[j] - x_initial[i])**2 + (y_list[j] - y_initial[i])**2)\n",
        "      distance.append(distancestep)\n",
        "      if(i == 2):\n",
        "        if((distance[j] <= distance[j+len(x_list)]) and (distance[j] <= distance[j+2*len(x_list)])):\n",
        "          cluster.append(0)\n",
        "        elif((distance[j+len(x_list)] < distance[j]) and (distance[j + len(x_list)] <= distance[j+2*len(x_list)])):\n",
        "          cluster.append(1)\n",
        "        else:\n",
        "          cluster.append(2)\n",
        "  return cluster"
      ]
    },
    {
      "cell_type": "markdown",
      "source": [
        "On MapReduce (Mapper function), this would return the data points with the closest centroid (0, 1, or 2) attached with the data points.\n",
        "\n"
      ],
      "metadata": {
        "id": "U40UZuBZwk0H"
      }
    },
    {
      "cell_type": "markdown",
      "source": [
        "**Calculating New centroids**"
      ],
      "metadata": {
        "id": "20JmH8yvf_OG"
      }
    },
    {
      "cell_type": "code",
      "source": [
        "def NewClusters(Cluster_list):\n",
        "\n",
        "  global cluster_change\n",
        "\n",
        "  xsum0 = 0\n",
        "  ysum0 = 0\n",
        "  count0 = 0\n",
        "  xsum1 = 0\n",
        "  ysum1 = 0\n",
        "  count1 = 0\n",
        "  xsum2 = 0\n",
        "  ysum2 = 0\n",
        "  count2 = 0\n",
        "\n",
        "  clusterx = []\n",
        "  clustery = []\n",
        "  cluster1x = []\n",
        "  cluster1y = []\n",
        "  cluster2x = []\n",
        "  cluster2y = []\n",
        "\n",
        "\n",
        "  for i in range (len(Cluster_list)):\n",
        "    if(Cluster_list[i] == 0):\n",
        "      xsum0 = xsum0 + x_list[i]\n",
        "      ysum0 = ysum0 + y_list[i]\n",
        "      count0 = count0 + 1\n",
        "      clusterx.append(x_list[i])\n",
        "      clustery.append(y_list[i])\n",
        "    if(Cluster_list[i] == 1):\n",
        "      xsum1 = xsum1 + x_list[i]\n",
        "      ysum1 = ysum1 + y_list[i]\n",
        "      count1 = count1 + 1\n",
        "      cluster1x.append(x_list[i])\n",
        "      cluster1y.append(y_list[i])\n",
        "    if(Cluster_list[i] == 2):\n",
        "      xsum2 = xsum2 + x_list[i]\n",
        "      ysum2 = xsum2 + x_list[i]\n",
        "      count2 = count2 + 1\n",
        "      cluster2x.append(x_list[i])\n",
        "      cluster2y.append(x_list[i])\n",
        "  plt.scatter(clusterx, clustery)\n",
        "  plt.scatter(cluster1x, cluster1y)\n",
        "  plt.scatter(cluster2x, cluster2y)\n",
        "  plt.scatter(x_initial, y_initial)\n",
        "  plt.show()\n",
        "  print(\"Figure\")\n",
        "\n",
        "  NewX0 = xsum0 / count0\n",
        "  NewY0 = ysum0 / count0\n",
        "  NewX1 = xsum1 / count1\n",
        "  NewY1 = ysum1 / count1\n",
        "  NewX2 = xsum2 / count2\n",
        "  NewY2 = ysum2 / count2\n",
        "\n",
        "  cluster_change = abs(x_initial[0] - NewX0) + abs(x_initial[1] - NewX1) + (x_initial[2] - NewX2) + abs(y_initial[0] - NewY0) +abs(y_initial[1] - NewY1) +abs(y_initial[2] - NewY2)\n",
        "  print(cluster_change)\n",
        "\n",
        "  NewX0 = str(NewX0)\n",
        "  NewY0 = str(NewY0)\n",
        "  NewX1 = str(NewX1)\n",
        "  NewY1 = str(NewY1)\n",
        "  NewX2 = str(NewX2)\n",
        "  NewY2 = str(NewY2)\n",
        "\n",
        "  NewCent = \"{},{}\\n{},{}\\n{},{}\".format(NewX0, NewY0, NewX1, NewY1, NewX2, NewY2)\n",
        "  file='initial3points.txt' \n",
        "  with open(file, 'w') as filetowrite:\n",
        "      filetowrite.write(NewCent)\n",
        "  print(NewCent)"
      ],
      "metadata": {
        "id": "BeM2lTu288_j"
      },
      "execution_count": 167,
      "outputs": []
    },
    {
      "cell_type": "markdown",
      "source": [
        "On MapReduce (Reducer Function), this will return the new centroid positions and will edit the existing text file."
      ],
      "metadata": {
        "id": "yeSCARYGwzCV"
      }
    },
    {
      "cell_type": "markdown",
      "source": [
        "This function will loop the map and reducer function until iterations or criteria are met"
      ],
      "metadata": {
        "id": "jUILj0PwyO86"
      }
    },
    {
      "cell_type": "code",
      "execution_count": 170,
      "metadata": {
        "id": "eAGWfJAD3FbQ",
        "colab": {
          "base_uri": "https://localhost:8080/",
          "height": 1000
        },
        "outputId": "1272ef91-ded2-484c-f330-34162b2e99b4"
      },
      "outputs": [
        {
          "output_type": "stream",
          "name": "stdout",
          "text": [
            "Rep #:\n",
            "1\n"
          ]
        },
        {
          "output_type": "display_data",
          "data": {
            "text/plain": [
              "<Figure size 432x288 with 1 Axes>"
            ],
            "image/png": "[encoded data removed]"
          },
          "metadata": {
            "needs_background": "light"
          }
        },
        {
          "output_type": "stream",
          "name": "stdout",
          "text": [
            "Figure\n",
            "66.36393124597731\n",
            "-5.023107495642601,7.627057400430873\n",
            "22.329942178845986,8.570098761503392\n",
            "50.00842125689307,50.008559180739525\n",
            "Rep #:\n",
            "2\n"
          ]
        },
        {
          "output_type": "display_data",
          "data": {
            "text/plain": [
              "<Figure size 432x288 with 1 Axes>"
            ],
            "image/png": "[encoded data removed]"
          },
          "metadata": {
            "needs_background": "light"
          }
        },
        {
          "output_type": "stream",
          "name": "stdout",
          "text": [
            "Figure\n",
            "20.81336724784125\n",
            "5.203921631310683,14.628419160149635\n",
            "25.304345385250343,7.959548639054054\n",
            "50.23950187477055,50.23966283093252\n",
            "Rep #:\n",
            "3\n"
          ]
        },
        {
          "output_type": "display_data",
          "data": {
            "text/plain": [
              "<Figure size 432x288 with 1 Axes>"
            ],
            "image/png": "[encoded data removed]"
          },
          "metadata": {
            "needs_background": "light"
          }
        },
        {
          "output_type": "stream",
          "name": "stdout",
          "text": [
            "Figure\n",
            "19.142292967911892\n",
            "9.470686581209913,15.353282808662078\n",
            "34.90350798645823,3.4080506213620763\n",
            "50.27615037855158,50.2763150853139\n",
            "Rep #:\n",
            "4\n"
          ]
        },
        {
          "output_type": "display_data",
          "data": {
            "text/plain": [
              "<Figure size 432x288 with 1 Axes>"
            ],
            "image/png": "[encoded data removed]"
          },
          "metadata": {
            "needs_background": "light"
          }
        },
        {
          "output_type": "stream",
          "name": "stdout",
          "text": [
            "Figure\n",
            "2.7857438685974127\n",
            "9.938344167216961,15.114854780351601\n",
            "36.418242945938786,3.8604656204257854\n",
            "50.21989177993754,50.22006538819231\n",
            "Rep #:\n",
            "5\n"
          ]
        },
        {
          "output_type": "display_data",
          "data": {
            "text/plain": [
              "<Figure size 432x288 with 1 Axes>"
            ],
            "image/png": "[encoded data removed]"
          },
          "metadata": {
            "needs_background": "light"
          }
        },
        {
          "output_type": "stream",
          "name": "stdout",
          "text": [
            "Figure\n",
            "0.7108865278558043\n",
            "9.97745489524424,15.07609305231439\n",
            "36.70047392731942,4.193885451642344\n",
            "50.211208291340625,50.211385617595106\n",
            "Time:  47.65373420200012\n"
          ]
        }
      ],
      "source": [
        "import matplotlib.pyplot as plt\n",
        "import timeit\n",
        "start = timeit.default_timer()\n",
        "i = 0\n",
        "cluster_change = 100000000\n",
        "while i < 10 and cluster_change > 1:\n",
        "  centroids = getCentroids('initial3points.txt')\n",
        "  Cluster_list = createClusters(centroids)\n",
        "  print(\"Rep #:\" )\n",
        "  print(i + 1)\n",
        "  NewClusters(Cluster_list)\n",
        "  i = i + 1\n",
        "\n",
        "stop = timeit.default_timer()\n",
        "print('Time: ', stop - start)"
      ]
    }
  ],
  "metadata": {
    "kernelspec": {
      "display_name": "Python 3",
      "language": "python",
      "name": "python3"
    },
    "language_info": {
      "codemirror_mode": {
        "name": "ipython",
        "version": 3
      },
      "file_extension": ".py",
      "mimetype": "text/x-python",
      "name": "python",
      "nbconvert_exporter": "python",
      "pygments_lexer": "ipython3",
      "version": "3.6.4"
    },
    "colab": {
      "provenance": [],
      "collapsed_sections": []
    }
  },
  "nbformat": 4,
  "nbformat_minor": 0
}